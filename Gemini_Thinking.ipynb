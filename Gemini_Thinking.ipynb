{
  "nbformat": 4,
  "nbformat_minor": 0,
  "metadata": {
    "colab": {
      "provenance": []
    },
    "kernelspec": {
      "name": "python3",
      "display_name": "Python 3"
    },
    "language_info": {
      "name": "python"
    }
  },
  "cells": [
    {
      "cell_type": "markdown",
      "source": [
        "# Exploring Gemini Thinking with Structured Prompts and Google Search\n",
        "\n",
        "This Python script demonstrates how to use Google's Gemini AI models (like Gemini 2.5 Flash) to generate structured content about a specific subject. It utilizes a detailed prompt template **based on techniques recommended by Google for guiding the AI's thinking process (see [Google AI Thinking Prompt Guide](https://ai.google.dev/gemini-api/docs/thinking#prompt-guide)) and leverages the Google Search tool to enable the AI to perform research and present information in a predefined format.\n",
        "\n",
        "\n",
        "## **Here's how it works:**\n",
        "\n",
        "1.  **Setup:**\n",
        "    *   It configures your Gemini API key (essential for using the AI). You'll need to set this up beforehand.\n",
        "    *   It defines a \"Google Search Tool,\" allowing the AI to actively search the internet for information.\n",
        "2.  **The Prompt:**\n",
        "    *   It uses a detailed prompt template that tells the AI exactly what kind of output we want.  This prompt asks the AI to:\n",
        "        *   Research a topic (e.g., \"3 famous female brazilian scientists\").\n",
        "        *   Identify key figures in that topic.\n",
        "        *   Summarize their contributions.\n",
        "        *   Present the information in a well-organized list.\n",
        "3.  **Inserting the Topic:**\n",
        "    *   We define a variable called `subject` with the specific topic we want the AI to focus on.  The code then inserts this topic into the prompt template, replacing a placeholder.\n",
        "4.  **Calling the AI:**\n",
        "    *   It initializes the Gemini AI model, linking it to the Google Search tool.\n",
        "    *   It then sends the complete prompt to the AI. The prompt tells the AI to do research, analyze the results, and structure the output.\n",
        "5.  **Getting the Results:**\n",
        "    *   Finally, the code prints the generated content from the AI, which should be a structured summary of the key figures in the specified topic, complete with their contributions and brief descriptions.\n",
        "\n",
        "## **Why this is useful:**\n",
        "\n",
        "*   **Structured Output:**  The detailed prompt ensures that the AI generates content in a predictable format, making it easier to use and process.\n",
        "*   **Research-Driven:**  The Google Search tool empowers the AI to go beyond its internal knowledge and find up-to-date information.\n",
        "*   **Customizable:**  You can easily change the `subject` variable to generate content about different topics, all while maintaining the same structured format.\n",
        "\n",
        "\n",
        "## **Key Code Snippets:**\n",
        "\n",
        "*   `genai.configure(api_key=...)`:  Sets up the API key.\n",
        "*   `google_search_tool`: Defines the Google Search tool.\n",
        "*   `prompt_template.replace(\"{{SUBJECT}}\", subject)`: Inserts the topic into the prompt.\n",
        "*   `model.generate_content(contents=...)`: Sends the prompt to the AI and generates the content.\n",
        "*   `response.text`:  Contains the generated text from the AI.\n",
        "\n",
        "This code is a powerful example of how you can combine AI models with structured prompts and external tools to create informative and well-organized content.  Experiment with different prompts and topics to see what you can create!\n",
        "\n",
        "Remember to install the necessary libraries and configure your API key before running the code.\n",
        "\n",
        "\n",
        "\n"
      ],
      "metadata": {
        "id": "7ZB4Td57kJHA"
      }
    },
    {
      "cell_type": "code",
      "source": [
        "from google import genai\n",
        "from google.genai import types\n",
        "import os\n"
      ],
      "metadata": {
        "id": "Xh8UlXHh6hcC"
      },
      "execution_count": 22,
      "outputs": []
    },
    {
      "cell_type": "code",
      "source": [
        "from google.colab import userdata\n",
        "\n",
        "# 1. Set up your API Key (replace with your actual key or use environment variables - here I stored mine on Secrets here on colab.\n",
        "\n",
        "GOOGLE_API_KEY = userdata.get('GOOGLE_API_KEY')\n",
        "client = genai.Client(api_key=GOOGLE_API_KEY)\n"
      ],
      "metadata": {
        "id": "RmO10way6NuU"
      },
      "execution_count": 23,
      "outputs": []
    },
    {
      "cell_type": "code",
      "source": [
        "# 2. Define the Google Search Tool (necessary for the research step in the prompt)\n",
        "\n",
        "from google.genai.types import Tool, GenerateContentConfig, GoogleSearch\n",
        "\n",
        "google_search_tool = Tool(\n",
        "    google_search = GoogleSearch()\n",
        ")\n",
        "\n"
      ],
      "metadata": {
        "id": "RBUueX6nPbp0"
      },
      "execution_count": 24,
      "outputs": []
    },
    {
      "cell_type": "code",
      "source": [
        "budget = 0 # 0 tokens --> no thinking\n",
        "budget = 1024 # 1-24K tokens --> with thinking\n",
        "\n",
        "# 3. Define the Prompt Template\n",
        "prompt_template = \"\"\"\n",
        "You are an educational content creator tasked with providing concise yet informative summaries about key figures in various fields of study.\n",
        "Your goal is to highlight three significant contributors to a given subject and present their information in an easily digestible format.\n",
        "\n",
        "Here is the subject you will be focusing on:\n",
        "\n",
        "<subject>\n",
        "{{SUBJECT}}\n",
        "</subject>\n",
        "\n",
        "Your task is to identify three key figures in this subject area and provide the following information for each:\n",
        "1. Their name\n",
        "2. Their key contributions to the field\n",
        "3. A brief description of their work and its significance\n",
        "\n",
        "Before providing your final response, wrap your research and analysis process inside <research_and_analysis> tags. Follow these steps:\n",
        "\n",
        "1. List 5-7 potential influential figures in the field.\n",
        "2. For each figure, briefly note their main contributions and significance.\n",
        "3. Rank the figures based on their impact and relevance.\n",
        "4. Select the top three figures for detailed presentation.\n",
        "5. Briefly justify your final selection of the three key figures.\n",
        "\n",
        "Consider the following during your analysis:\n",
        "- Who are the most influential figures in this subject?\n",
        "- What makes their contributions particularly significant?\n",
        "- How can you summarize their work concisely yet informatively?\n",
        "- Are you considering diversity in your selection (e.g., different time periods, backgrounds, or sub-fields)?\n",
        "\n",
        "After your research and analysis, present the information for each figure in a structured list format. Use headings and bullet points to organize the content clearly.\n",
        "\n",
        "Here's an example of the desired output structure (using generic placeholders):\n",
        "\n",
        "# 1. [Name of Figure 1]\n",
        "- Key Contributions:\n",
        "  • [Contribution 1]\n",
        "  • [Contribution 2]\n",
        "- Description: [Brief description of their work and its significance]\n",
        "\n",
        "# 2. [Name of Figure 2]\n",
        "- Key Contributions:\n",
        "  • [Contribution 1]\n",
        "  • [Contribution 2]\n",
        "- Description: [Brief description of their work and its significance]\n",
        "\n",
        "# 3. [Name of Figure 3]\n",
        "- Key Contributions:\n",
        "  • [Contribution 1]\n",
        "  • [Contribution 2]\n",
        "- Description: [Brief description of their work and its significance]\n",
        "\n",
        "Remember to replace the placeholders with actual, relevant information about the key figures in the given subject area. Ensure that your descriptions are concise yet informative, providing valuable insights into each figure's contributions to the field.\n",
        "\"\"\"\n"
      ],
      "metadata": {
        "id": "dsl7ilFqOmfJ"
      },
      "execution_count": 25,
      "outputs": []
    },
    {
      "cell_type": "code",
      "source": [
        "# 4. Define the Subject\n",
        "subject = \"3 famous female brazilian scientists\"\n",
        "# You can change this variable to any other subject\n",
        "# subject = \"Pioneers of Quantum Computing\"\n",
        "# subject = \"Influential environmental activists\"\n"
      ],
      "metadata": {
        "id": "muyB1_Fhd_4m"
      },
      "execution_count": 26,
      "outputs": []
    },
    {
      "cell_type": "code",
      "source": [
        "# 5. Format the prompt with the subject\n",
        "# Using .replace() is often safer for templates than f-strings\n",
        "final_prompt = prompt_template.replace(\"{{SUBJECT}}\", subject)\n"
      ],
      "metadata": {
        "id": "69Gf6CwVeJOt"
      },
      "execution_count": 27,
      "outputs": []
    },
    {
      "cell_type": "code",
      "source": [
        "# Define generation configuration (including thinking config from my example)\n",
        "\n",
        "generation_config = GenerateContentConfig(\n",
        "    thinking_config=genai.types.ThinkingConfig(thinking_budget=1024)\n",
        "    # you can add other config like temperature, top_p etc. here if needed\n",
        ")"
      ],
      "metadata": {
        "id": "qAbYzIiPPB1G"
      },
      "execution_count": 28,
      "outputs": []
    },
    {
      "cell_type": "code",
      "source": [
        "print(f\"--- Sending Request for Subject: '{subject}' ---\")\n",
        "\n",
        "try:\n",
        "    response = client.models.generate_content(\n",
        "      model=\"gemini-2.5-flash-preview-04-17\",\n",
        "      contents=final_prompt,\n",
        "      config=types.GenerateContentConfig(\n",
        "          thinking_config=types.ThinkingConfig(thinking_budget=1024),\n",
        "          tools=[google_search_tool],\n",
        "          )\n",
        "  )\n",
        "\n",
        "# --- Process Response ---\n",
        "    print(\"\\n--- Full Response ---\")\n",
        "    #print(response) # Uncomment to see the full response object structure\n",
        "\n",
        "    print(\"\\n--- Generated Content (response.text) ---\")\n",
        "    print(response.text)\n",
        "\n",
        "except Exception as e:\n",
        "    print(f\"An error occurred: {e}\")"
      ],
      "metadata": {
        "colab": {
          "base_uri": "https://localhost:8080/"
        },
        "id": "nPR2-oCbPEpY",
        "outputId": "3e8bdc54-6d05-4f9f-cd69-4f235d52370f"
      },
      "execution_count": 29,
      "outputs": [
        {
          "output_type": "stream",
          "name": "stdout",
          "text": [
            "--- Sending Request for Subject: '3 famous female brazilian scientists' ---\n",
            "\n",
            "--- Full Response ---\n",
            "\n",
            "--- Generated Content (response.text) ---\n",
            "<research_and_analysis>\n",
            "1.  **List 5-7 potential influential figures:**\n",
            "    *   Mayana Zatz (Genetics)\n",
            "    *   Jaqueline Goes de Jesus (Biomedicine/Genomics)\n",
            "    *   Márcia Barbosa (Physics)\n",
            "    *   Graziela Maciel Barroso (Botany)\n",
            "    *   Johanna Döbereiner (Agricultural Science)\n",
            "    *   Nise da Silveira (Psychiatry)\n",
            "    *   Bertha Lutz (Zoology/Feminism)\n",
            "\n",
            "2.  **Briefly note their main contributions and significance:**\n",
            "    *   **Mayana Zatz:** Genetics, particularly research on muscular dystrophies, human genome, stem cells, and aging. Pioneer in locating a gene linked to muscular dystrophy.\n",
            "    *   **Jaqueline Goes de Jesus:** Biomedicine, genomics. Key role in rapidly sequencing the SARS-CoV-2 genome in Brazil and contributed to Zika and HIV research.\n",
            "    *   **Márcia Barbosa:** Theoretical Physics, research on water anomalies. Also a strong advocate for women in physics and science policy.\n",
            "    *   **Graziela Maciel Barroso:** Botany, systematic botany (taxonomy). First woman naturalist at the Rio de Janeiro Botanical Garden. Major contributions to classifying Brazilian flora.\n",
            "    *   **Johanna Döbereiner:** Agricultural Science. Research on biological nitrogen fixation, significantly impacting Brazilian agriculture by reducing reliance on chemical fertilizers.\n",
            "    *   **Nise da Silveira:** Psychiatry. Revolutionary in advocating for humane treatment and opposing aggressive therapies like electroshock, integrating art and animals in therapy.\n",
            "    *   **Bertha Lutz:** Zoology and Feminism. Zoologist specializing in amphibians, but equally famous for her activism for women's rights and suffrage in Brazil.\n",
            "\n",
            "3.  **Rank the figures based on their impact and relevance:**\n",
            "    *   Based on the search results highlighting significant scientific breakthroughs, policy influence, and public recognition:\n",
            "        1.  Mayana Zatz (Major contributions in human genetics, well-recognized)\n",
            "        2.  Márcia Barbosa (Significant physics research and major international impact on gender equality in science)\n",
            "        3.  Jaqueline Goes de Jesus (High recent visibility and critical contribution during the COVID-19 pandemic)\n",
            "        4.  Graziela Maciel Barroso (Pioneer in Brazilian botany, foundational work)\n",
            "        5.  Johanna Döbereiner (Major impact on agriculture)\n",
            "        6.  Nise da Silveira (Significant impact on psychiatric practice, but maybe less \"scientist\" in the experimental/research sense compared to others)\n",
            "        7.  Bertha Lutz (Strong blend of science and activism, but scientific contribution seems overshadowed by activism in public profile)\n",
            "\n",
            "4.  **Select the top three figures for detailed presentation:**\n",
            "    *   Mayana Zatz\n",
            "    *   Márcia Barbosa\n",
            "    *   Jaqueline Goes de Jesus\n",
            "\n",
            "5.  **Justify your final selection:**\n",
            "    *   Mayana Zatz is a leading figure in Brazilian genetics with decades of impactful research on genetic diseases and aging. Her work is foundational and widely recognized.\n",
            "    *   Márcia Barbosa's contributions span significant theoretical physics research (water anomalies) and major international efforts to promote women in science, making her influential both scientifically and socially.\n",
            "    *   Jaqueline Goes de Jesus represents a more recent, but highly significant, contribution to rapid genomic sequencing during a major global health crisis (COVID-19), bringing vital scientific capacity to Brazil's pandemic response. This selection offers a mix of established careers and impactful recent contributions across different scientific fields (Genetics, Physics, Biomedicine/Genomics). Graziela Maciel Barroso and Johanna Döbereiner are also highly notable, but the chosen three offer a slightly broader range of contemporary relevance and public profile based on the search results.\n",
            "\n",
            "</research_and_analysis>\n",
            "\n",
            "Here are three famous female Brazilian scientists:\n",
            "\n",
            "# 1. Mayana Zatz\n",
            "- Key Contributions:\n",
            "  • Identification of genes associated with muscular dystrophies and other genetic disorders.\n",
            "  • Research on human genome, stem cells, and healthy aging.\n",
            "- Description: Mayana Zatz is a highly respected Brazilian geneticist. Her extensive research has been crucial in understanding and diagnosing genetic diseases, particularly neuromuscular disorders. She leads significant research centers in Brazil focused on the human genome and stem cells, contributing to both scientific knowledge and genetic counseling.\n",
            "\n",
            "# 2. Márcia Barbosa\n",
            "- Key Contributions:\n",
            "  • Theoretical physics research focusing on the anomalous properties of water.\n",
            "  • Advocacy and policy work for gender equality and increasing the participation of women in physics and STEM fields globally.\n",
            "- Description: Márcia Barbosa is a theoretical physicist known for her work explaining the unusual behaviors of water under different conditions, with implications for various scientific fields. Beyond her research, she is a prominent international figure in promoting women in science, having held leadership roles in international physics organizations and received awards for her efforts.\n",
            "\n",
            "# 3. Jaqueline Goes de Jesus\n",
            "- Key Contributions:\n",
            "  • Led the team that performed the rapid sequencing of the first SARS-CoV-2 genome in Brazil.\n",
            "  • Contributed to the genomic sequencing efforts for the Zika virus and research on HIV.\n",
            "- Description: Jaqueline Goes de Jesus is a biomedical scientist recognized for her crucial role in Brazil's response to infectious disease outbreaks. Her leadership in quickly sequencing the COVID-19 virus genome in Brazil was a significant scientific achievement, providing vital data for understanding and combating the pandemic. She has also worked on other significant viruses like Zika and HIV.\n"
          ]
        }
      ]
    },
    {
      "cell_type": "code",
      "source": [
        "# To see the grounding metadata run this:\n",
        "response.candidates[0].grounding_metadata"
      ],
      "metadata": {
        "id": "DCIwFbuUX3NF"
      },
      "execution_count": null,
      "outputs": []
    }
  ]
}